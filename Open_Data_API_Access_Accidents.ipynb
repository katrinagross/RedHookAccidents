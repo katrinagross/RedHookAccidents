{
 "cells": [
  {
   "cell_type": "code",
   "execution_count": 1,
   "metadata": {
    "colab": {
     "base_uri": "https://localhost:8080/"
    },
    "id": "7zeJlbKTae88",
    "outputId": "e0bd874e-f633-48c1-c780-afdaee1dc905"
   },
   "outputs": [
    {
     "name": "stdout",
     "output_type": "stream",
     "text": [
      "Collecting sodapy\n",
      "  Downloading sodapy-2.2.0-py2.py3-none-any.whl (15 kB)\n",
      "Collecting requests>=2.28.1\n",
      "  Downloading requests-2.28.2-py3-none-any.whl (62 kB)\n",
      "\u001b[2K     \u001b[90m━━━━━━━━━━━━━━━━━━━━━━━━━━━━━━━━━━━━━━━\u001b[0m \u001b[32m62.8/62.8 kB\u001b[0m \u001b[31m597.7 kB/s\u001b[0m eta \u001b[36m0:00:00\u001b[0m00:01\u001b[0m00:01\u001b[0m\n",
      "\u001b[?25hRequirement already satisfied: certifi>=2017.4.17 in /Users/katrinagross/env/lib/python3.8/site-packages (from requests>=2.28.1->sodapy) (2021.10.8)\n",
      "Requirement already satisfied: charset-normalizer<4,>=2 in /Users/katrinagross/env/lib/python3.8/site-packages (from requests>=2.28.1->sodapy) (2.0.10)\n",
      "Requirement already satisfied: idna<4,>=2.5 in /Users/katrinagross/env/lib/python3.8/site-packages (from requests>=2.28.1->sodapy) (3.3)\n",
      "Requirement already satisfied: urllib3<1.27,>=1.21.1 in /Users/katrinagross/env/lib/python3.8/site-packages (from requests>=2.28.1->sodapy) (1.26.8)\n",
      "Installing collected packages: requests, sodapy\n",
      "  Attempting uninstall: requests\n",
      "    Found existing installation: requests 2.27.1\n",
      "    Uninstalling requests-2.27.1:\n",
      "      Successfully uninstalled requests-2.27.1\n",
      "Successfully installed requests-2.28.2 sodapy-2.2.0\n",
      "\n",
      "\u001b[1m[\u001b[0m\u001b[34;49mnotice\u001b[0m\u001b[1;39;49m]\u001b[0m\u001b[39;49m A new release of pip available: \u001b[0m\u001b[31;49m22.2.2\u001b[0m\u001b[39;49m -> \u001b[0m\u001b[32;49m23.0\u001b[0m\n",
      "\u001b[1m[\u001b[0m\u001b[34;49mnotice\u001b[0m\u001b[1;39;49m]\u001b[0m\u001b[39;49m To update, run: \u001b[0m\u001b[32;49mpip install --upgrade pip\u001b[0m\n",
      "Note: you may need to restart the kernel to use updated packages.\n"
     ]
    }
   ],
   "source": [
    "pip install sodapy"
   ]
  },
  {
   "cell_type": "code",
   "execution_count": 2,
   "metadata": {
    "id": "kwctj1lcacRO"
   },
   "outputs": [],
   "source": [
    "import pandas as pd\n",
    "from sodapy import Socrata\n",
    "import json\n",
    "\n",
    "pd.set_option('display.max_columns', None) # show all the columns in the dataframe"
   ]
  },
  {
   "cell_type": "markdown",
   "metadata": {
    "id": "QksgjHygavVz"
   },
   "source": [
    "# Using the NYC Open Data API to access data\n",
    "\n",
    "In this file we will:\n",
    "\n",
    "- create API tokens (you should make your own)\n",
    "- access the [Community Board Requests Data](https://data.cityofnewyork.us/City-Government/Register-of-Community-Board-Budget-Requests/vn4m-mk4t) data through the API\n",
    "\n",
    "API documentation [here](https://dev.socrata.com/foundry/data.cityofnewyork.us/mwzb-yiwb)"
   ]
  },
  {
   "cell_type": "markdown",
   "metadata": {
    "id": "GGZ34FSHbxSK"
   },
   "source": [
    "# Create API Keys\n",
    "\n",
    "Step 1: Create an [Open Data Account](https://opendata.cityofnewyork.us/)\n",
    "\n",
    "Step 2: Create API keys through the [developer portal](https://data.cityofnewyork.us/profile/edit/developer_settings)\n",
    "\n",
    "Step 3: Store your keys in a local file (jsons are usually easy)\n",
    "\n",
    "Step 4: Read in keys"
   ]
  },
  {
   "cell_type": "markdown",
   "metadata": {
    "id": "WdsrPiCId2iF"
   },
   "source": [
    "## To create your credentials file:\n",
    "\n",
    "your json file should look like this:\n",
    "\n",
    "{\"api_key\": \"\",\n",
    " \"api_key_secret\": \"\",\n",
    " \"app_token\": \"\",\n",
    " \"app_token_secret\": \"\"}\n",
    "\n",
    "open a text editor (sublime or text edit) and copy the above, then save the file with a .json extention \n",
    "\n",
    "don't share this!!! (don't store it on git)"
   ]
  },
  {
   "cell_type": "code",
   "execution_count": 15,
   "metadata": {
    "id": "BcEWNbGodTHa"
   },
   "outputs": [],
   "source": [
    "# Read in credentials - stored LOCALLY on your own computer\n",
    "with open('opendatacredentials.json') as creds:\n",
    "    credentials = json.load(creds)\n",
    "\n",
    "api_key = credentials['api_key']\n",
    "api_key_secret = credentials['api_key_secret']\n",
    "app_token = credentials['app_token']\n",
    "app_token_secret = credentials['app_token_secret']"
   ]
  },
  {
   "cell_type": "markdown",
   "metadata": {
    "id": "bx37nwnseVxM"
   },
   "source": [
    "# Access Data\n",
    "\n",
    "We began to look at data surrounding truck-involved accidents in Red Hook. This data was available through the NYC Open Data [portal vehicle collisions](https://data.cityofnewyork.us/Public-Safety/Motor-Vehicle-Collisions-Crashes/h9gi-nx95) data collected by NYPD. The data is queried from 2012 through April 2022. The data is shared using coordinates and cross streets. This data is likely incomplete, since it only tracks police-reported incidents."
   ]
  },
  {
   "cell_type": "code",
   "execution_count": 16,
   "metadata": {
    "id": "E9t2N_r8dq4R"
   },
   "outputs": [],
   "source": [
    "dataset_identifier = \"h9gi-nx95\"\n",
    "client = Socrata(\"data.cityofnewyork.us\", app_token)"
   ]
  },
  {
   "cell_type": "code",
   "execution_count": 17,
   "metadata": {
    "id": "oTANHH9ggnBt"
   },
   "outputs": [],
   "source": [
    "metadata = client.get_metadata(dataset_identifier)"
   ]
  },
  {
   "cell_type": "code",
   "execution_count": 18,
   "metadata": {
    "id": "T3gZ95tzjlqm"
   },
   "outputs": [],
   "source": [
    "results = client.get(dataset_identifier)"
   ]
  },
  {
   "cell_type": "markdown",
   "metadata": {
    "id": "JkjGcXD-lto3"
   },
   "source": [
    "## Put data into a data frame so we can analyze it"
   ]
  },
  {
   "cell_type": "code",
   "execution_count": 19,
   "metadata": {
    "id": "cAuJYk-bloCh"
   },
   "outputs": [],
   "source": [
    "df = pd.json_normalize(results)\n"
   ]
  },
  {
   "cell_type": "code",
   "execution_count": 20,
   "metadata": {
    "colab": {
     "base_uri": "https://localhost:8080/",
     "height": 773
    },
    "id": "wMlc5u1ZlqAd",
    "outputId": "448ad2ff-1a03-49a4-ac9d-f5336902685a"
   },
   "outputs": [
    {
     "data": {
      "text/html": [
       "<div>\n",
       "<style scoped>\n",
       "    .dataframe tbody tr th:only-of-type {\n",
       "        vertical-align: middle;\n",
       "    }\n",
       "\n",
       "    .dataframe tbody tr th {\n",
       "        vertical-align: top;\n",
       "    }\n",
       "\n",
       "    .dataframe thead th {\n",
       "        text-align: right;\n",
       "    }\n",
       "</style>\n",
       "<table border=\"1\" class=\"dataframe\">\n",
       "  <thead>\n",
       "    <tr style=\"text-align: right;\">\n",
       "      <th></th>\n",
       "      <th>crash_date</th>\n",
       "      <th>crash_time</th>\n",
       "      <th>on_street_name</th>\n",
       "      <th>off_street_name</th>\n",
       "      <th>number_of_persons_injured</th>\n",
       "      <th>number_of_persons_killed</th>\n",
       "      <th>number_of_pedestrians_injured</th>\n",
       "      <th>number_of_pedestrians_killed</th>\n",
       "      <th>number_of_cyclist_injured</th>\n",
       "      <th>number_of_cyclist_killed</th>\n",
       "      <th>number_of_motorist_injured</th>\n",
       "      <th>number_of_motorist_killed</th>\n",
       "      <th>contributing_factor_vehicle_1</th>\n",
       "      <th>contributing_factor_vehicle_2</th>\n",
       "      <th>collision_id</th>\n",
       "      <th>vehicle_type_code1</th>\n",
       "      <th>vehicle_type_code2</th>\n",
       "      <th>borough</th>\n",
       "      <th>zip_code</th>\n",
       "      <th>latitude</th>\n",
       "      <th>longitude</th>\n",
       "      <th>cross_street_name</th>\n",
       "      <th>location.latitude</th>\n",
       "      <th>location.longitude</th>\n",
       "      <th>location.human_address</th>\n",
       "      <th>contributing_factor_vehicle_3</th>\n",
       "      <th>vehicle_type_code_3</th>\n",
       "      <th>contributing_factor_vehicle_4</th>\n",
       "      <th>vehicle_type_code_4</th>\n",
       "      <th>contributing_factor_vehicle_5</th>\n",
       "      <th>vehicle_type_code_5</th>\n",
       "    </tr>\n",
       "  </thead>\n",
       "  <tbody>\n",
       "    <tr>\n",
       "      <th>85</th>\n",
       "      <td>2021-12-07T00:00:00.000</td>\n",
       "      <td>7:50</td>\n",
       "      <td>CARROLL STREET</td>\n",
       "      <td>NaN</td>\n",
       "      <td>0</td>\n",
       "      <td>0</td>\n",
       "      <td>0</td>\n",
       "      <td>0</td>\n",
       "      <td>0</td>\n",
       "      <td>0</td>\n",
       "      <td>0</td>\n",
       "      <td>0</td>\n",
       "      <td>Driver Inattention/Distraction</td>\n",
       "      <td>Unspecified</td>\n",
       "      <td>4485772</td>\n",
       "      <td>Sedan</td>\n",
       "      <td>Sedan</td>\n",
       "      <td>NaN</td>\n",
       "      <td>NaN</td>\n",
       "      <td>40.66718</td>\n",
       "      <td>-73.95076</td>\n",
       "      <td>NaN</td>\n",
       "      <td>40.66718</td>\n",
       "      <td>-73.95076</td>\n",
       "      <td>{\"address\": \"\", \"city\": \"\", \"state\": \"\", \"zip\"...</td>\n",
       "      <td>NaN</td>\n",
       "      <td>NaN</td>\n",
       "      <td>NaN</td>\n",
       "      <td>NaN</td>\n",
       "      <td>NaN</td>\n",
       "      <td>NaN</td>\n",
       "    </tr>\n",
       "    <tr>\n",
       "      <th>186</th>\n",
       "      <td>2022-03-26T00:00:00.000</td>\n",
       "      <td>13:28</td>\n",
       "      <td>GRAHAM AVENUE</td>\n",
       "      <td>DEBEVOISE STREET</td>\n",
       "      <td>1</td>\n",
       "      <td>0</td>\n",
       "      <td>0</td>\n",
       "      <td>0</td>\n",
       "      <td>0</td>\n",
       "      <td>0</td>\n",
       "      <td>1</td>\n",
       "      <td>0</td>\n",
       "      <td>Following Too Closely</td>\n",
       "      <td>Unspecified</td>\n",
       "      <td>4514046</td>\n",
       "      <td>Station Wagon/Sport Utility Vehicle</td>\n",
       "      <td>Station Wagon/Sport Utility Vehicle</td>\n",
       "      <td>BROOKLYN</td>\n",
       "      <td>11206</td>\n",
       "      <td>40.701637</td>\n",
       "      <td>-73.942276</td>\n",
       "      <td>NaN</td>\n",
       "      <td>40.701637</td>\n",
       "      <td>-73.942276</td>\n",
       "      <td>{\"address\": \"\", \"city\": \"\", \"state\": \"\", \"zip\"...</td>\n",
       "      <td>NaN</td>\n",
       "      <td>NaN</td>\n",
       "      <td>NaN</td>\n",
       "      <td>NaN</td>\n",
       "      <td>NaN</td>\n",
       "      <td>NaN</td>\n",
       "    </tr>\n",
       "    <tr>\n",
       "      <th>365</th>\n",
       "      <td>2021-07-08T00:00:00.000</td>\n",
       "      <td>8:50</td>\n",
       "      <td>BROOKLYN QUEENS EXPRESSWAY</td>\n",
       "      <td>NaN</td>\n",
       "      <td>0</td>\n",
       "      <td>0</td>\n",
       "      <td>0</td>\n",
       "      <td>0</td>\n",
       "      <td>0</td>\n",
       "      <td>0</td>\n",
       "      <td>0</td>\n",
       "      <td>0</td>\n",
       "      <td>Unsafe Lane Changing</td>\n",
       "      <td>Unspecified</td>\n",
       "      <td>4456599</td>\n",
       "      <td>Tow Truck / Wrecker</td>\n",
       "      <td>Sedan</td>\n",
       "      <td>NaN</td>\n",
       "      <td>NaN</td>\n",
       "      <td>40.673107</td>\n",
       "      <td>-73.99959</td>\n",
       "      <td>NaN</td>\n",
       "      <td>40.673107</td>\n",
       "      <td>-73.99959</td>\n",
       "      <td>{\"address\": \"\", \"city\": \"\", \"state\": \"\", \"zip\"...</td>\n",
       "      <td>NaN</td>\n",
       "      <td>NaN</td>\n",
       "      <td>NaN</td>\n",
       "      <td>NaN</td>\n",
       "      <td>NaN</td>\n",
       "      <td>NaN</td>\n",
       "    </tr>\n",
       "    <tr>\n",
       "      <th>78</th>\n",
       "      <td>2021-12-05T00:00:00.000</td>\n",
       "      <td>8:20</td>\n",
       "      <td>NaN</td>\n",
       "      <td>NaN</td>\n",
       "      <td>0</td>\n",
       "      <td>0</td>\n",
       "      <td>0</td>\n",
       "      <td>0</td>\n",
       "      <td>0</td>\n",
       "      <td>0</td>\n",
       "      <td>0</td>\n",
       "      <td>0</td>\n",
       "      <td>Unspecified</td>\n",
       "      <td>NaN</td>\n",
       "      <td>4485408</td>\n",
       "      <td>Sedan</td>\n",
       "      <td>NaN</td>\n",
       "      <td>BROOKLYN</td>\n",
       "      <td>11212</td>\n",
       "      <td>40.658413</td>\n",
       "      <td>-73.9171</td>\n",
       "      <td>393       ROCKAWAY PARKWAY</td>\n",
       "      <td>40.658413</td>\n",
       "      <td>-73.9171</td>\n",
       "      <td>{\"address\": \"\", \"city\": \"\", \"state\": \"\", \"zip\"...</td>\n",
       "      <td>NaN</td>\n",
       "      <td>NaN</td>\n",
       "      <td>NaN</td>\n",
       "      <td>NaN</td>\n",
       "      <td>NaN</td>\n",
       "      <td>NaN</td>\n",
       "    </tr>\n",
       "    <tr>\n",
       "      <th>367</th>\n",
       "      <td>2021-09-11T00:00:00.000</td>\n",
       "      <td>17:45</td>\n",
       "      <td>BROOKVILLE BOULEVARD</td>\n",
       "      <td>133 AVENUE</td>\n",
       "      <td>0</td>\n",
       "      <td>0</td>\n",
       "      <td>0</td>\n",
       "      <td>0</td>\n",
       "      <td>0</td>\n",
       "      <td>0</td>\n",
       "      <td>0</td>\n",
       "      <td>0</td>\n",
       "      <td>Driver Inattention/Distraction</td>\n",
       "      <td>Unspecified</td>\n",
       "      <td>4455904</td>\n",
       "      <td>Sedan</td>\n",
       "      <td>Tow Truck / Wrecker</td>\n",
       "      <td>QUEENS</td>\n",
       "      <td>11422</td>\n",
       "      <td>40.675255</td>\n",
       "      <td>-73.73207</td>\n",
       "      <td>NaN</td>\n",
       "      <td>40.675255</td>\n",
       "      <td>-73.73207</td>\n",
       "      <td>{\"address\": \"\", \"city\": \"\", \"state\": \"\", \"zip\"...</td>\n",
       "      <td>NaN</td>\n",
       "      <td>NaN</td>\n",
       "      <td>NaN</td>\n",
       "      <td>NaN</td>\n",
       "      <td>NaN</td>\n",
       "      <td>NaN</td>\n",
       "    </tr>\n",
       "  </tbody>\n",
       "</table>\n",
       "</div>"
      ],
      "text/plain": [
       "                  crash_date crash_time              on_street_name  \\\n",
       "85   2021-12-07T00:00:00.000       7:50              CARROLL STREET   \n",
       "186  2022-03-26T00:00:00.000      13:28               GRAHAM AVENUE   \n",
       "365  2021-07-08T00:00:00.000       8:50  BROOKLYN QUEENS EXPRESSWAY   \n",
       "78   2021-12-05T00:00:00.000       8:20                         NaN   \n",
       "367  2021-09-11T00:00:00.000      17:45        BROOKVILLE BOULEVARD   \n",
       "\n",
       "      off_street_name number_of_persons_injured number_of_persons_killed  \\\n",
       "85                NaN                         0                        0   \n",
       "186  DEBEVOISE STREET                         1                        0   \n",
       "365               NaN                         0                        0   \n",
       "78                NaN                         0                        0   \n",
       "367        133 AVENUE                         0                        0   \n",
       "\n",
       "    number_of_pedestrians_injured number_of_pedestrians_killed  \\\n",
       "85                              0                            0   \n",
       "186                             0                            0   \n",
       "365                             0                            0   \n",
       "78                              0                            0   \n",
       "367                             0                            0   \n",
       "\n",
       "    number_of_cyclist_injured number_of_cyclist_killed  \\\n",
       "85                          0                        0   \n",
       "186                         0                        0   \n",
       "365                         0                        0   \n",
       "78                          0                        0   \n",
       "367                         0                        0   \n",
       "\n",
       "    number_of_motorist_injured number_of_motorist_killed  \\\n",
       "85                           0                         0   \n",
       "186                          1                         0   \n",
       "365                          0                         0   \n",
       "78                           0                         0   \n",
       "367                          0                         0   \n",
       "\n",
       "      contributing_factor_vehicle_1 contributing_factor_vehicle_2  \\\n",
       "85   Driver Inattention/Distraction                   Unspecified   \n",
       "186           Following Too Closely                   Unspecified   \n",
       "365            Unsafe Lane Changing                   Unspecified   \n",
       "78                      Unspecified                           NaN   \n",
       "367  Driver Inattention/Distraction                   Unspecified   \n",
       "\n",
       "    collision_id                   vehicle_type_code1  \\\n",
       "85       4485772                                Sedan   \n",
       "186      4514046  Station Wagon/Sport Utility Vehicle   \n",
       "365      4456599                  Tow Truck / Wrecker   \n",
       "78       4485408                                Sedan   \n",
       "367      4455904                                Sedan   \n",
       "\n",
       "                      vehicle_type_code2   borough zip_code   latitude  \\\n",
       "85                                 Sedan       NaN      NaN   40.66718   \n",
       "186  Station Wagon/Sport Utility Vehicle  BROOKLYN    11206  40.701637   \n",
       "365                                Sedan       NaN      NaN  40.673107   \n",
       "78                                   NaN  BROOKLYN    11212  40.658413   \n",
       "367                  Tow Truck / Wrecker    QUEENS    11422  40.675255   \n",
       "\n",
       "      longitude           cross_street_name location.latitude  \\\n",
       "85    -73.95076                         NaN          40.66718   \n",
       "186  -73.942276                         NaN         40.701637   \n",
       "365   -73.99959                         NaN         40.673107   \n",
       "78     -73.9171  393       ROCKAWAY PARKWAY         40.658413   \n",
       "367   -73.73207                         NaN         40.675255   \n",
       "\n",
       "    location.longitude                             location.human_address  \\\n",
       "85           -73.95076  {\"address\": \"\", \"city\": \"\", \"state\": \"\", \"zip\"...   \n",
       "186         -73.942276  {\"address\": \"\", \"city\": \"\", \"state\": \"\", \"zip\"...   \n",
       "365          -73.99959  {\"address\": \"\", \"city\": \"\", \"state\": \"\", \"zip\"...   \n",
       "78            -73.9171  {\"address\": \"\", \"city\": \"\", \"state\": \"\", \"zip\"...   \n",
       "367          -73.73207  {\"address\": \"\", \"city\": \"\", \"state\": \"\", \"zip\"...   \n",
       "\n",
       "    contributing_factor_vehicle_3 vehicle_type_code_3  \\\n",
       "85                            NaN                 NaN   \n",
       "186                           NaN                 NaN   \n",
       "365                           NaN                 NaN   \n",
       "78                            NaN                 NaN   \n",
       "367                           NaN                 NaN   \n",
       "\n",
       "    contributing_factor_vehicle_4 vehicle_type_code_4  \\\n",
       "85                            NaN                 NaN   \n",
       "186                           NaN                 NaN   \n",
       "365                           NaN                 NaN   \n",
       "78                            NaN                 NaN   \n",
       "367                           NaN                 NaN   \n",
       "\n",
       "    contributing_factor_vehicle_5 vehicle_type_code_5  \n",
       "85                            NaN                 NaN  \n",
       "186                           NaN                 NaN  \n",
       "365                           NaN                 NaN  \n",
       "78                            NaN                 NaN  \n",
       "367                           NaN                 NaN  "
      ]
     },
     "execution_count": 20,
     "metadata": {},
     "output_type": "execute_result"
    }
   ],
   "source": [
    "df.sample(5)"
   ]
  },
  {
   "cell_type": "code",
   "execution_count": 21,
   "metadata": {
    "id": "mZEzMlGOmrIp"
   },
   "outputs": [
    {
     "data": {
      "text/plain": [
       "'2016-04-16T00:00:00.000'"
      ]
     },
     "execution_count": 21,
     "metadata": {},
     "output_type": "execute_result"
    }
   ],
   "source": [
    "df['crash_date'].min()"
   ]
  },
  {
   "cell_type": "code",
   "execution_count": 22,
   "metadata": {},
   "outputs": [
    {
     "data": {
      "text/plain": [
       "'2022-07-12T00:00:00.000'"
      ]
     },
     "execution_count": 22,
     "metadata": {},
     "output_type": "execute_result"
    }
   ],
   "source": [
    "df['crash_date'].max()"
   ]
  },
  {
   "cell_type": "code",
   "execution_count": null,
   "metadata": {},
   "outputs": [],
   "source": []
  }
 ],
 "metadata": {
  "colab": {
   "provenance": []
  },
  "kernelspec": {
   "display_name": "Python 3 (ipykernel)",
   "language": "python",
   "name": "python3"
  },
  "language_info": {
   "codemirror_mode": {
    "name": "ipython",
    "version": 3
   },
   "file_extension": ".py",
   "mimetype": "text/x-python",
   "name": "python",
   "nbconvert_exporter": "python",
   "pygments_lexer": "ipython3",
   "version": "3.8.2"
  }
 },
 "nbformat": 4,
 "nbformat_minor": 4
}
